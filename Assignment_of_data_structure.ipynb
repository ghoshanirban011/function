{
  "nbformat": 4,
  "nbformat_minor": 0,
  "metadata": {
    "colab": {
      "provenance": []
    },
    "kernelspec": {
      "name": "python3",
      "display_name": "Python 3"
    },
    "language_info": {
      "name": "python"
    }
  },
  "cells": [
    {
      "cell_type": "code",
      "execution_count": null,
      "metadata": {
        "id": "D5hCoSoeTvNA"
      },
      "outputs": [],
      "source": []
    },
    {
      "cell_type": "markdown",
      "source": [
        "# ANSWERS FOR PRACTICAL QUESTIONS"
      ],
      "metadata": {
        "id": "hRWEN39kT52z"
      }
    },
    {
      "cell_type": "markdown",
      "source": [
        " 1.Write a code to create a string with your name and print it\n",
        "\n"
      ],
      "metadata": {
        "id": "-0RWHZf_UGhN"
      }
    },
    {
      "cell_type": "code",
      "source": [
        "name=input(\"Enter your name:\")\n",
        "print(\"your name is\",name)\n",
        "\n",
        "\n",
        "\n"
      ],
      "metadata": {
        "colab": {
          "base_uri": "https://localhost:8080/"
        },
        "id": "svJkvSvYT_xG",
        "outputId": "d6ea6463-94a4-4d9e-ccd7-155a79d81b21"
      },
      "execution_count": 2,
      "outputs": [
        {
          "output_type": "stream",
          "name": "stdout",
          "text": [
            "Enter your name:Anirban Ghosh\n",
            "your name is Anirban Ghosh\n"
          ]
        }
      ]
    },
    {
      "cell_type": "markdown",
      "source": [
        " 2.Write a code to find the length of the string \"Hello World\""
      ],
      "metadata": {
        "id": "hd4hZeYpWIug"
      }
    },
    {
      "cell_type": "code",
      "source": [
        "len('hello world')"
      ],
      "metadata": {
        "colab": {
          "base_uri": "https://localhost:8080/"
        },
        "id": "0BpGZMFUWPUp",
        "outputId": "cb3a8e3f-e0fb-4c11-b71c-f448bb8b2f06"
      },
      "execution_count": 3,
      "outputs": [
        {
          "output_type": "execute_result",
          "data": {
            "text/plain": [
              "11"
            ]
          },
          "metadata": {},
          "execution_count": 3
        }
      ]
    },
    {
      "cell_type": "markdown",
      "source": [
        "3.Write a code to slice the first 3 characters from the string \"Python Programming\""
      ],
      "metadata": {
        "id": "8oWyP-m-WZ4k"
      }
    },
    {
      "cell_type": "code",
      "source": [
        "w=\"Python Programming\"\n",
        "w[0:3]"
      ],
      "metadata": {
        "colab": {
          "base_uri": "https://localhost:8080/",
          "height": 36
        },
        "id": "r0Mo7wNWWUQ8",
        "outputId": "8673f14e-d9d5-4623-fb9c-dd7b1356bea4"
      },
      "execution_count": 5,
      "outputs": [
        {
          "output_type": "execute_result",
          "data": {
            "text/plain": [
              "'Pyt'"
            ],
            "application/vnd.google.colaboratory.intrinsic+json": {
              "type": "string"
            }
          },
          "metadata": {},
          "execution_count": 5
        }
      ]
    },
    {
      "cell_type": "markdown",
      "source": [
        "4.Write a code to convert the string \"hello\" to uppercase"
      ],
      "metadata": {
        "id": "rFqIxRHwWykm"
      }
    },
    {
      "cell_type": "code",
      "source": [
        "\"hello\".upper()"
      ],
      "metadata": {
        "colab": {
          "base_uri": "https://localhost:8080/",
          "height": 36
        },
        "id": "ZpgMJUriXKcd",
        "outputId": "a295da81-1435-4c12-ac7c-ec79da6d35c2"
      },
      "execution_count": 7,
      "outputs": [
        {
          "output_type": "execute_result",
          "data": {
            "text/plain": [
              "'HELLO'"
            ],
            "application/vnd.google.colaboratory.intrinsic+json": {
              "type": "string"
            }
          },
          "metadata": {},
          "execution_count": 7
        }
      ]
    },
    {
      "cell_type": "markdown",
      "source": [
        "5 Write a code to replace the word \"apple\" with \"orange\" in the string \"I like apple\""
      ],
      "metadata": {
        "id": "63qucWREg9hT"
      }
    },
    {
      "cell_type": "code",
      "source": [
        "a= \"I like apple\"\n",
        "a.replace('apple','orange')"
      ],
      "metadata": {
        "colab": {
          "base_uri": "https://localhost:8080/",
          "height": 36
        },
        "id": "3ujV0AeIg1V9",
        "outputId": "8521fbfe-1bf3-4ab7-d807-24d108812f54"
      },
      "execution_count": 8,
      "outputs": [
        {
          "output_type": "execute_result",
          "data": {
            "text/plain": [
              "'I like orange'"
            ],
            "application/vnd.google.colaboratory.intrinsic+json": {
              "type": "string"
            }
          },
          "metadata": {},
          "execution_count": 8
        }
      ]
    },
    {
      "cell_type": "markdown",
      "source": [
        "6.Write a code to create a list with numbers 1 to 5 and print it"
      ],
      "metadata": {
        "id": "nJCAiG-JhPs5"
      }
    },
    {
      "cell_type": "code",
      "source": [
        "l=[1,2,3,4,5]\n",
        "print(l)"
      ],
      "metadata": {
        "colab": {
          "base_uri": "https://localhost:8080/"
        },
        "id": "x_7aR_hWhdTA",
        "outputId": "9a58fa51-ead8-424d-e685-d14c996387c0"
      },
      "execution_count": 9,
      "outputs": [
        {
          "output_type": "stream",
          "name": "stdout",
          "text": [
            "[1, 2, 3, 4, 5]\n"
          ]
        }
      ]
    },
    {
      "cell_type": "markdown",
      "source": [
        "7.Write a code to append the number 10 to the list [1, 2, 3, 4]"
      ],
      "metadata": {
        "id": "v1cVu-9aiyWI"
      }
    },
    {
      "cell_type": "code",
      "source": [
        "x=[1,2,3,4]\n",
        "x.append(10)\n",
        "print(x)"
      ],
      "metadata": {
        "colab": {
          "base_uri": "https://localhost:8080/"
        },
        "id": "94UdfOXri5L5",
        "outputId": "57bc7e19-8780-474a-ee93-02e86611cfba"
      },
      "execution_count": 10,
      "outputs": [
        {
          "output_type": "stream",
          "name": "stdout",
          "text": [
            "[1, 2, 3, 4, 10]\n"
          ]
        }
      ]
    },
    {
      "cell_type": "markdown",
      "source": [
        "8.Write a code to remove the number 3 from the list [1, 2, 3, 4, 5]"
      ],
      "metadata": {
        "id": "vT8vAI4si-L5"
      }
    },
    {
      "cell_type": "markdown",
      "source": [],
      "metadata": {
        "id": "z15_fOBkg8Gw"
      }
    },
    {
      "cell_type": "code",
      "source": [
        "y=[1,2,3,4,5]\n",
        "y.remove(3)\n",
        "print(y)"
      ],
      "metadata": {
        "colab": {
          "base_uri": "https://localhost:8080/"
        },
        "id": "Upf01q9ojLUy",
        "outputId": "b506146c-36ac-43e2-a4fc-f0daec8bf627"
      },
      "execution_count": 11,
      "outputs": [
        {
          "output_type": "stream",
          "name": "stdout",
          "text": [
            "[1, 2, 4, 5]\n"
          ]
        }
      ]
    },
    {
      "cell_type": "markdown",
      "source": [
        "9.Write a code to access the second element in the list ['a', 'b', 'c', 'd']"
      ],
      "metadata": {
        "id": "B6CJL7YKjRhA"
      }
    },
    {
      "cell_type": "code",
      "source": [
        "z=['a','b','c','d']\n",
        "z[1]"
      ],
      "metadata": {
        "colab": {
          "base_uri": "https://localhost:8080/",
          "height": 36
        },
        "id": "_V-tEJzSjvqN",
        "outputId": "863ba4fe-85eb-4198-ebce-e57242a76ac6"
      },
      "execution_count": 13,
      "outputs": [
        {
          "output_type": "execute_result",
          "data": {
            "text/plain": [
              "'b'"
            ],
            "application/vnd.google.colaboratory.intrinsic+json": {
              "type": "string"
            }
          },
          "metadata": {},
          "execution_count": 13
        }
      ]
    },
    {
      "cell_type": "markdown",
      "source": [
        "10. Write a code to reverse the list [10, 20, 30, 40, 50]."
      ],
      "metadata": {
        "id": "q0it4wDCjzt3"
      }
    },
    {
      "cell_type": "code",
      "source": [
        "s=[10,20,30,40,50]\n",
        "s.reverse()\n",
        "print(s)"
      ],
      "metadata": {
        "colab": {
          "base_uri": "https://localhost:8080/"
        },
        "id": "Jw_71KOLj7yq",
        "outputId": "6f88f43d-6f65-48f5-a944-59eaa2da5ad3"
      },
      "execution_count": 14,
      "outputs": [
        {
          "output_type": "stream",
          "name": "stdout",
          "text": [
            "[50, 40, 30, 20, 10]\n"
          ]
        }
      ]
    },
    {
      "cell_type": "code",
      "source": [
        "t=[10, 20, 30, 40, 50]\n",
        "t[::-1]"
      ],
      "metadata": {
        "colab": {
          "base_uri": "https://localhost:8080/"
        },
        "id": "vbtBoYTokAHI",
        "outputId": "239f6e1d-aece-49bc-c334-728e4b39a78d"
      },
      "execution_count": 15,
      "outputs": [
        {
          "output_type": "execute_result",
          "data": {
            "text/plain": [
              "[50, 40, 30, 20, 10]"
            ]
          },
          "metadata": {},
          "execution_count": 15
        }
      ]
    },
    {
      "cell_type": "markdown",
      "source": [
        "11.Write a code to create a tuple with the elements 100, 200, 300 and print it."
      ],
      "metadata": {
        "id": "vLn2XTp0kL0u"
      }
    },
    {
      "cell_type": "code",
      "source": [
        "k=(100,200,300)\n",
        "print(k)"
      ],
      "metadata": {
        "colab": {
          "base_uri": "https://localhost:8080/"
        },
        "id": "ISSdLxwEkTh8",
        "outputId": "9464762a-67c4-4d58-8dd9-d22567ea04f0"
      },
      "execution_count": 16,
      "outputs": [
        {
          "output_type": "stream",
          "name": "stdout",
          "text": [
            "(100, 200, 300)\n"
          ]
        }
      ]
    },
    {
      "cell_type": "markdown",
      "source": [
        "12. Write a code to access the second-to-last element of the tuple ('red', 'green', 'blue', 'yellow')."
      ],
      "metadata": {
        "id": "Ov6KJduBkYZF"
      }
    },
    {
      "cell_type": "code",
      "source": [
        "h=('red','green','blue','yellow')\n",
        "h[-2]"
      ],
      "metadata": {
        "colab": {
          "base_uri": "https://localhost:8080/",
          "height": 36
        },
        "id": "mX-5YtbXkLLr",
        "outputId": "d5dfa94f-0516-4e1b-9c8f-bbc1ea8d7720"
      },
      "execution_count": 17,
      "outputs": [
        {
          "output_type": "execute_result",
          "data": {
            "text/plain": [
              "'blue'"
            ],
            "application/vnd.google.colaboratory.intrinsic+json": {
              "type": "string"
            }
          },
          "metadata": {},
          "execution_count": 17
        }
      ]
    },
    {
      "cell_type": "markdown",
      "source": [
        " 13. Write a code to find the minimum number in the tuple (10, 20, 5, 15).\n"
      ],
      "metadata": {
        "id": "cZMb7OkQkr2Q"
      }
    },
    {
      "cell_type": "code",
      "source": [
        "q=(10,20,5,15)\n",
        "min(q)"
      ],
      "metadata": {
        "colab": {
          "base_uri": "https://localhost:8080/"
        },
        "id": "B1BNWqY_leni",
        "outputId": "a0c3a989-88af-4c77-d137-b0ecf7664b06"
      },
      "execution_count": 21,
      "outputs": [
        {
          "output_type": "execute_result",
          "data": {
            "text/plain": [
              "5"
            ]
          },
          "metadata": {},
          "execution_count": 21
        }
      ]
    },
    {
      "cell_type": "markdown",
      "source": [
        "14. Write a code to find the index of the element \"cat\" in the tuple ('dog', 'cat', 'rabbit')"
      ],
      "metadata": {
        "id": "J1k-vxL1mf-P"
      }
    },
    {
      "cell_type": "code",
      "source": [
        "u=('dog','cat','rabbit')\n",
        "u.index('cat')"
      ],
      "metadata": {
        "colab": {
          "base_uri": "https://localhost:8080/"
        },
        "id": "pg8nQUuGmfg3",
        "outputId": "7d287e12-38d6-4b4d-cf73-59327bb246bb"
      },
      "execution_count": 22,
      "outputs": [
        {
          "output_type": "execute_result",
          "data": {
            "text/plain": [
              "1"
            ]
          },
          "metadata": {},
          "execution_count": 22
        }
      ]
    },
    {
      "cell_type": "markdown",
      "source": [
        " 15. Write a code to create a tuple containing three different fruits and check if \"kiwi\" is in it.\n"
      ],
      "metadata": {
        "id": "-0uA3JUjmn9X"
      }
    },
    {
      "cell_type": "code",
      "source": [
        "s=(\"apple\",\"banana\",\"kiwi\")\n",
        "\"kiwi\" in s"
      ],
      "metadata": {
        "colab": {
          "base_uri": "https://localhost:8080/"
        },
        "id": "k_gkwcfolt04",
        "outputId": "fd21ae97-6c21-4a36-ee1a-1ce7997b3df0"
      },
      "execution_count": 23,
      "outputs": [
        {
          "output_type": "execute_result",
          "data": {
            "text/plain": [
              "True"
            ]
          },
          "metadata": {},
          "execution_count": 23
        }
      ]
    },
    {
      "cell_type": "markdown",
      "source": [
        "16. Write a code to create a set with the elements 'a', 'b', 'c' and print it."
      ],
      "metadata": {
        "id": "5TBMrbTmn3Vp"
      }
    },
    {
      "cell_type": "code",
      "source": [
        "g={'a','b','c'}\n",
        "print(g)"
      ],
      "metadata": {
        "colab": {
          "base_uri": "https://localhost:8080/"
        },
        "id": "JP62yfqtn5sb",
        "outputId": "91a084de-9785-4cc9-c7d6-4577e5e52fe1"
      },
      "execution_count": 29,
      "outputs": [
        {
          "output_type": "stream",
          "name": "stdout",
          "text": [
            "{'b', 'a', 'c'}\n"
          ]
        }
      ]
    },
    {
      "cell_type": "markdown",
      "source": [
        " 17. Write a code to clear all elements from the set {1, 2, 3, 4, 5}.\n"
      ],
      "metadata": {
        "id": "7xsheR_9n_xD"
      }
    },
    {
      "cell_type": "code",
      "source": [
        "e={1,2,3,4,5}\n",
        "e.clear()\n",
        "print(e)"
      ],
      "metadata": {
        "colab": {
          "base_uri": "https://localhost:8080/"
        },
        "id": "T9_fwSi5lnRU",
        "outputId": "91c6fe52-7b60-4f44-a226-018513c5b6ca"
      },
      "execution_count": 31,
      "outputs": [
        {
          "output_type": "stream",
          "name": "stdout",
          "text": [
            "set()\n"
          ]
        }
      ]
    },
    {
      "cell_type": "markdown",
      "source": [
        " 18. Write a code to remove the element 4 from the set {1, 2, 3, 4}.\n"
      ],
      "metadata": {
        "id": "zsq8ooR-oRfJ"
      }
    },
    {
      "cell_type": "code",
      "source": [
        "j= {1, 2, 3, 4}\n",
        "j.remove(4)\n",
        "print(j)"
      ],
      "metadata": {
        "colab": {
          "base_uri": "https://localhost:8080/"
        },
        "id": "TFhUSlnvoWis",
        "outputId": "4bc5b9ec-28e8-4569-c559-da397d026b0b"
      },
      "execution_count": 32,
      "outputs": [
        {
          "output_type": "stream",
          "name": "stdout",
          "text": [
            "{1, 2, 3}\n"
          ]
        }
      ]
    },
    {
      "cell_type": "markdown",
      "source": [
        " 19. Write a code to find the union of two sets {1, 2, 3} and {3, 4, 5}.\n"
      ],
      "metadata": {
        "id": "iBGFeNmrojdo"
      }
    },
    {
      "cell_type": "code",
      "source": [
        "s1={1,2,3}\n",
        "s2={3,4,5}\n",
        "s1|s2"
      ],
      "metadata": {
        "colab": {
          "base_uri": "https://localhost:8080/"
        },
        "id": "0DVkHxp1ryBq",
        "outputId": "f4775e52-2e62-4fd4-f5d3-eda29581d37f"
      },
      "execution_count": 33,
      "outputs": [
        {
          "output_type": "execute_result",
          "data": {
            "text/plain": [
              "{1, 2, 3, 4, 5}"
            ]
          },
          "metadata": {},
          "execution_count": 33
        }
      ]
    },
    {
      "cell_type": "markdown",
      "source": [
        " 20. Write a code to find the intersection of two sets {1, 2, 3} and {2, 3, 4}.\n"
      ],
      "metadata": {
        "id": "Xk8D1Kk8sE8F"
      }
    },
    {
      "cell_type": "code",
      "source": [
        "s3={1,2,3}\n",
        "s4={2,3,4}\n",
        "s3&s4"
      ],
      "metadata": {
        "colab": {
          "base_uri": "https://localhost:8080/"
        },
        "id": "OayZaHE5sH2t",
        "outputId": "867dbdd3-d1d9-4bcd-e192-12eaf5fdb7b0"
      },
      "execution_count": 34,
      "outputs": [
        {
          "output_type": "execute_result",
          "data": {
            "text/plain": [
              "{2, 3}"
            ]
          },
          "metadata": {},
          "execution_count": 34
        }
      ]
    },
    {
      "cell_type": "markdown",
      "source": [],
      "metadata": {
        "id": "0jGABwsosdSv"
      }
    },
    {
      "cell_type": "markdown",
      "source": [
        " 21. Write a code to create a dictionary with the keys \"name\", \"age\", and \"city\", and print it.\n"
      ],
      "metadata": {
        "id": "kxbLFsYmsxkX"
      }
    },
    {
      "cell_type": "code",
      "source": [
        "x=input(\"Enter your name:\")\n",
        "y=input(\"Enter your age:\")\n",
        "z=input(\"Enter your city:\")\n",
        "d={\"name\":x,\"age\":y,\"city\":z}\n",
        "print(d)"
      ],
      "metadata": {
        "colab": {
          "base_uri": "https://localhost:8080/"
        },
        "id": "tdVc-vE0sz7H",
        "outputId": "f362b71f-ee17-452c-d218-e22fe5adea9e"
      },
      "execution_count": 38,
      "outputs": [
        {
          "output_type": "stream",
          "name": "stdout",
          "text": [
            "Enter your name:ANIRBAN\n",
            "Enter your age:35\n",
            "Enter your city:BOLPUR\n",
            "{'name': 'ANIRBAN', 'age': '35', 'city': 'BOLPUR'}\n"
          ]
        }
      ]
    },
    {
      "cell_type": "markdown",
      "source": [
        " 22. Write a code to add a new key-value pair \"country\": \"USA\" to the dictionary {'name': 'John', 'age': 25}.\n"
      ],
      "metadata": {
        "id": "UulU4bXrujwG"
      }
    },
    {
      "cell_type": "code",
      "source": [
        "di={'name': 'John', 'age': 25}\n",
        "di['country']='usa'\n",
        "print(di)"
      ],
      "metadata": {
        "colab": {
          "base_uri": "https://localhost:8080/"
        },
        "id": "AqEGgfG6uwHZ",
        "outputId": "70daedee-45ea-49c2-ede8-83cc8a39f184"
      },
      "execution_count": 41,
      "outputs": [
        {
          "output_type": "stream",
          "name": "stdout",
          "text": [
            "{'name': 'John', 'age': 25, 'country': 'usa'}\n"
          ]
        }
      ]
    },
    {
      "cell_type": "markdown",
      "source": [
        " 22. Write a code to add a new key-value pair \"country\": \"USA\" to the dictionary {'name': 'John', 'age': 25}.\n"
      ],
      "metadata": {
        "id": "fyTUfCLix06z"
      }
    },
    {
      "cell_type": "code",
      "source": [
        "my_dict = {'name': 'Alice', 'age': 30}\n",
        "f = my_dict['name']\n",
        "print(f)"
      ],
      "metadata": {
        "colab": {
          "base_uri": "https://localhost:8080/"
        },
        "id": "uRcuMCwOxz4R",
        "outputId": "2c837a79-cfe3-40d8-b174-201e9e1d24cb"
      },
      "execution_count": 42,
      "outputs": [
        {
          "output_type": "stream",
          "name": "stdout",
          "text": [
            "Alice\n"
          ]
        }
      ]
    },
    {
      "cell_type": "markdown",
      "source": [
        "24. Write a code to remove the key \"age\" from the dictionary {'name': 'Bob', 'age': 22, 'city': 'New York'}"
      ],
      "metadata": {
        "id": "AYquKXdryYZc"
      }
    },
    {
      "cell_type": "code",
      "source": [
        "x1 = {'name': 'Bob', 'age': 22, 'city': 'New York'}\n",
        "del x1['age']\n",
        "print(x1)"
      ],
      "metadata": {
        "colab": {
          "base_uri": "https://localhost:8080/"
        },
        "id": "ZC34yUHiynXL",
        "outputId": "f447efba-3404-4316-b3f9-b42d70e7fd5b"
      },
      "execution_count": 47,
      "outputs": [
        {
          "output_type": "stream",
          "name": "stdout",
          "text": [
            "{'name': 'Bob', 'city': 'New York'}\n"
          ]
        }
      ]
    },
    {
      "cell_type": "markdown",
      "source": [],
      "metadata": {
        "id": "-9jnDc3ayFxD"
      }
    },
    {
      "cell_type": "markdown",
      "source": [],
      "metadata": {
        "id": "wlsT5uD2yu7g"
      }
    },
    {
      "cell_type": "markdown",
      "source": [
        "25. Write a code to check if the key \"city\" exists in the dictionary {'name': 'Alice', 'city': 'Paris'}."
      ],
      "metadata": {
        "id": "o9VgO9LdzqMi"
      }
    },
    {
      "cell_type": "code",
      "source": [
        "d3 = {'name': 'Alice', 'city': 'Paris'}\n",
        "if 'city' in d3:\n",
        "    print(\"The key 'city' exists in the dictionary.\")\n",
        "else:\n",
        "    print(\"The key 'city' does not exist in the dictionary.\")"
      ],
      "metadata": {
        "colab": {
          "base_uri": "https://localhost:8080/"
        },
        "id": "SbyUivXTzZ00",
        "outputId": "ff8b6742-64da-4263-b3b8-bd4522685e22"
      },
      "execution_count": 43,
      "outputs": [
        {
          "output_type": "stream",
          "name": "stdout",
          "text": [
            "The key 'city' exists in the dictionary.\n"
          ]
        }
      ]
    },
    {
      "cell_type": "markdown",
      "source": [
        " 26. Write a code to create a list, a tuple, and a dictionary, and print them all.\n"
      ],
      "metadata": {
        "id": "ajXLqAsM1p1F"
      }
    },
    {
      "cell_type": "code",
      "source": [
        "list1 = [90, 'pwskills', 6.25]\n",
        "tuple1 = (90, 'pwskills', 6.25)\n",
        "dict1 = {90, 'pwskills', 6.25}\n",
        "\n",
        "print(\"List:\", list1)\n",
        "print(\"Tuple:\", tuple1)\n",
        "print(\"Dictionary:\",dict1)"
      ],
      "metadata": {
        "colab": {
          "base_uri": "https://localhost:8080/"
        },
        "id": "UItwIcH4zxMK",
        "outputId": "61d14218-9b28-4c17-8f51-8c9624c3b96b"
      },
      "execution_count": 44,
      "outputs": [
        {
          "output_type": "stream",
          "name": "stdout",
          "text": [
            "List: [90, 'pwskills', 6.25]\n",
            "Tuple: (90, 'pwskills', 6.25)\n",
            "Dictionary: {90, 'pwskills', 6.25}\n"
          ]
        }
      ]
    },
    {
      "cell_type": "markdown",
      "source": [],
      "metadata": {
        "id": "UalcXJ1U1xHo"
      }
    },
    {
      "cell_type": "markdown",
      "source": [
        " 27. Write a code to create a list of 5 random numbers between 1 and 100, sort it in ascending order, and print the result.\n"
      ],
      "metadata": {
        "id": "Ss61Z5Qk3iml"
      }
    },
    {
      "cell_type": "code",
      "source": [
        "l8 = [5, 2, 8, 1, 9]\n",
        "l8.sort()\n",
        "print(l8)"
      ],
      "metadata": {
        "colab": {
          "base_uri": "https://localhost:8080/"
        },
        "id": "rH99jIq13gnn",
        "outputId": "8e244f16-89f8-4a4c-d0e4-d5ec4f9df152"
      },
      "execution_count": 45,
      "outputs": [
        {
          "output_type": "stream",
          "name": "stdout",
          "text": [
            "[1, 2, 5, 8, 9]\n"
          ]
        }
      ]
    },
    {
      "cell_type": "markdown",
      "source": [
        "28. Write a code to create a list with strings and print the element at the third index."
      ],
      "metadata": {
        "id": "H6LQwPvL4U29"
      }
    },
    {
      "cell_type": "code",
      "source": [
        "king=[\"ashoka\",\"ramchandra\",\"bidusar\",\"chandragupta\",\"shivaji\"]\n",
        "s=king[3]\n",
        "print(s)"
      ],
      "metadata": {
        "colab": {
          "base_uri": "https://localhost:8080/"
        },
        "id": "fMXSZuGC4Xj4",
        "outputId": "30ad9d4c-6466-4d09-9f55-36785e04cc65"
      },
      "execution_count": 46,
      "outputs": [
        {
          "output_type": "stream",
          "name": "stdout",
          "text": [
            "chandragupta\n"
          ]
        }
      ]
    },
    {
      "cell_type": "markdown",
      "source": [
        "29.. Write a code to combine two dictionaries into one and print the result"
      ],
      "metadata": {
        "id": "T2RHAHKREQYs"
      }
    },
    {
      "cell_type": "code",
      "source": [
        "mydict = {'a': 1, 'b': 2}\n",
        "mydict1 = {'c': 3, 'd': 4}\n",
        "\n",
        "combined_dict = {**mydict, **mydict1}\n",
        "print(combined_dict)"
      ],
      "metadata": {
        "colab": {
          "base_uri": "https://localhost:8080/"
        },
        "id": "CjXEovp8EMVa",
        "outputId": "b31353eb-d47a-4f13-b42f-c9d93142c3a9"
      },
      "execution_count": 1,
      "outputs": [
        {
          "output_type": "stream",
          "name": "stdout",
          "text": [
            "{'a': 1, 'b': 2, 'c': 3, 'd': 4}\n"
          ]
        }
      ]
    },
    {
      "cell_type": "markdown",
      "source": [
        " 30. Write a code to convert a list of strings into a set.\n"
      ],
      "metadata": {
        "id": "reVUmRplEaoL"
      }
    },
    {
      "cell_type": "code",
      "source": [
        "fruit=[\"mango\",\"banana\",\"apple\",\"orange\",\"dragon fruit\"]\n",
        "y=set(fruit)\n",
        "print(y)\n",
        "type(y)"
      ],
      "metadata": {
        "colab": {
          "base_uri": "https://localhost:8080/"
        },
        "id": "Vck-Q7MCEmll",
        "outputId": "7209a4e7-f167-4c30-93ab-ace2655a76c8"
      },
      "execution_count": 4,
      "outputs": [
        {
          "output_type": "stream",
          "name": "stdout",
          "text": [
            "{'mango', 'banana', 'orange', 'apple', 'dragon fruit'}\n"
          ]
        },
        {
          "output_type": "execute_result",
          "data": {
            "text/plain": [
              "set"
            ]
          },
          "metadata": {},
          "execution_count": 4
        }
      ]
    },
    {
      "cell_type": "code",
      "source": [],
      "metadata": {
        "id": "nkhCQJkYFSid"
      },
      "execution_count": null,
      "outputs": []
    },
    {
      "cell_type": "code",
      "source": [],
      "metadata": {
        "id": "IUcwlJf5FM9p"
      },
      "execution_count": null,
      "outputs": []
    },
    {
      "cell_type": "markdown",
      "source": [],
      "metadata": {
        "id": "PRNUiWF4pabo"
      }
    },
    {
      "cell_type": "code",
      "source": [],
      "metadata": {
        "id": "MaTz7rKdpie7"
      },
      "execution_count": null,
      "outputs": []
    },
    {
      "cell_type": "code",
      "source": [],
      "metadata": {
        "id": "0-ez1sYRpi6g"
      },
      "execution_count": null,
      "outputs": []
    },
    {
      "cell_type": "markdown",
      "source": [
        "QUESTIONS ON DATA STRRUCTURES"
      ],
      "metadata": {
        "id": "L-qXFvSNpjYS"
      }
    },
    {
      "cell_type": "markdown",
      "source": [
        "1. What are data structures, and why are they important\n",
        "\n",
        "Ans--A data structure is a way of organizing and storing data in a computer so that it can be accessed and used efficiently. It refers to the logical or mathematical representation of data, as well as the implementation in a computer program.\n",
        "\n",
        "Data structures has follwing importace in todays industry\n",
        "\n",
        "Databases: Data structures are used to organize and store data in a database, allowing for efficient retrieval and manipulation.\n",
        "Operating systems: Data structures are used in the design and implementation of operating systems to manage system resources, such as memory and files.\n",
        "Computer graphics: Data structures are used to represent geometric shapes and other graphical elements in computer graphics applications.\n",
        "Artificial intelligence: Data structures are used to represent knowledge and information in artificial intelligence systems."
      ],
      "metadata": {
        "id": "qEvuq47Bprs1"
      }
    },
    {
      "cell_type": "markdown",
      "source": [
        "2. Explain the difference between mutable and immutable data types with examples\n",
        "\n",
        "ANS--\n",
        "** Mutable Data Types**\n",
        "These can change their content without changing their identity (i.e., their memory address remains the same).\n",
        "\n",
        "🔹 Examples:\n",
        "List: You can modify elements, append new ones, or remove them.\n",
        "Dictionary: Keys and values can be added or updated.\n",
        "Set: You can add or remove elements.\n",
        "\n",
        "**Immutable Data Types**\n",
        "These cannot be changed after they are created. Any modification creates a new object entirely.\n",
        "\n",
        "🔹 Examples:\n",
        "String: Any update creates a new string.\n",
        "Tuple: The elements are fixed.\n",
        "Integer / Float / Boolean: Changing the value results in a new object.\n"
      ],
      "metadata": {
        "id": "HVyzaGWzqnjN"
      }
    },
    {
      "cell_type": "markdown",
      "source": [
        " 3.What are the main differences between lists and tuples in PythON?\n",
        "\n",
        " Answer-\n",
        " List are mutable(values can be updated), it is represented in square bracket[], it is ideal for dynamic data, it consume more memory as compared to tuple.\n",
        "\n",
        " Tuples areImmutable (cannot be changed), itis represented in parenthese(),it is ideal for fixed type of data, consume laser memory compared to list, it is also works faster tham list.\n",
        "\n"
      ],
      "metadata": {
        "id": "DzJVVeojrz1W"
      }
    },
    {
      "cell_type": "markdown",
      "source": [
        "4. Describe how dictionaries store data\n",
        "\n",
        "Answer--A dictionary in Python is a collection of key-value pairs, where each unique key maps to a value. Think of it like a real-world dictionary: you look up a word (key), and you get its definition (value)\n",
        "\n",
        "Hash Table Mechanism: Python dictionaries use a hash table to store and retrieve data efficiently.\n",
        "\n",
        "Hashing the Key:\n",
        "\n",
        "When you insert a key-value pair, Python internally hashes the key using its built-in hash() function.\n",
        "\n",
        "The resulting hash value determines where in memory the value is stored.\n",
        "\n",
        "Indexing & Collision Handling:\n",
        "\n",
        "The hash value is converted into an index for storing the pair.\n",
        "\n",
        "If two keys hash to the same index (called a collision), Python uses techniques like open addressing to find the next available slot."
      ],
      "metadata": {
        "id": "ZqiwBnbBtfrb"
      }
    },
    {
      "cell_type": "markdown",
      "source": [
        "5. Why might you use a set instead of a list in Python\n",
        "\n",
        "## Answer--\n",
        "** No Duplicates Allowed\t** Sets automatically remove duplicates—lists don't\n",
        "\n",
        " **Faster Membership** Checks\tx in my_set is much faster than x in my_list\n",
        "\n",
        "**Efficient Set Operations**\tSets support unions, intersections, differences natively\n",
        "\n",
        "**Cleaner Data**\tIdeal for ensuring uniqueness (e.g., user IDs, tags)"
      ],
      "metadata": {
        "id": "4kPHSiB8uGiG"
      }
    },
    {
      "cell_type": "markdown",
      "source": [
        "6. What is a string in Python, and how is it different from a list\n",
        "\n",
        "Answer-\n",
        "strings are any name or number reprtesented in double quote or double quote like \"ram\", \"878\".\n",
        "\n",
        "list are the collection of object represented in [] like[7,8,\"ram\"]"
      ],
      "metadata": {
        "id": "Pmn7jBEyvYxe"
      }
    },
    {
      "cell_type": "markdown",
      "source": [
        "7.How do tuples ensure data integrity in Python\n",
        "\n",
        "Ans-\n",
        "Immutability 🧊\n",
        "\n",
        "Once created, a tuple’s contents can’t be modified.\n",
        "\n",
        "This means your data stays exactly as it was, helping protect it from unintended side effects.\n",
        "\n",
        "Safe Data Sharing\n",
        "\n",
        "When you pass a tuple to functions or share it across modules, you can be confident it won't get changed behind your back.\n",
        "\n",
        "Reliable as Dictionary Keys\n",
        "\n",
        "\n",
        "Tuples can be used as keys in dictionaries, unlike lists. This makes them great for indexing immutable combinations."
      ],
      "metadata": {
        "id": "G5xgtt7fxMBD"
      }
    },
    {
      "cell_type": "markdown",
      "source": [
        "What is a hash table, and how does it relate to dictionaries in Python\n",
        "\n",
        "Ans\n",
        "\n",
        "A hash table is a data structure that stores key-value pairs using a process called hashing:\n",
        "\n",
        "Each key is passed through a hash function, which converts it into a unique number (called a hash).\n",
        "\n",
        "This number determines where the key-value pair is stored in memory.\n",
        "\n",
        "Lookup is super-efficient—rather than scanning the entire structure, you just jump straight to the location using the hash.\n",
        "\n",
        "It's like assigning each item to a locker based on a special code—when you need it, you go straight to the locker!\n",
        "\n",
        " How Python Dictionaries Use Hash Tables\n",
        "In Python:\n",
        "\n",
        "The dict type is implemented using a hash table under the hood.\n",
        "\n",
        "Keys are hashed so that Python can store and retrieve values quickly.\n",
        "\n",
        "This is why dictionary lookups are fast, even when the dictionary contains a huge number of items.\n",
        "\n",
        "Immutable Keys Only: Only hashable (immutable) types like strings, numbers, and tuples can be dictionary keys.\n",
        "\n",
        "Hash Collisions: If two keys produce the same hash, Python handles it internally using techniques like chaining or probing.\n",
        "\n",
        "Hash tables are the reason dictionaries are one of Python’s most beloved data structures—they combine speed, elegance, and simplicity.\n",
        "\n",
        "\n",
        "\n"
      ],
      "metadata": {
        "id": "MUUCi_gTrr9A"
      }
    },
    {
      "cell_type": "markdown",
      "source": [
        "9. Can lists contain different data types in Python\n",
        "ANS-- Yes lists contain different type of data like integer, strings , boolean float etc[\"ram\", 78, 3.23,3+5j]"
      ],
      "metadata": {
        "id": "LlZU2GUoy8zt"
      }
    },
    {
      "cell_type": "markdown",
      "source": [
        "10. Explain why strings are immutable in Python\n",
        "\n",
        "\n",
        "Ans--\n",
        "\n",
        "In Python, strings are immutable, which means that once a string is created, its contents cannot be changed.Once one memoruy block is assigned it can not be updated in case of string"
      ],
      "metadata": {
        "id": "VpW__KF81Qfh"
      }
    },
    {
      "cell_type": "markdown",
      "source": [
        "11.What advantages do dictionaries offer over lists for certain tasks\n",
        "\n",
        "Ans-Dictionaries can be more efficient compared to lists when it comes to certain tasks—especially those involving fast lookups, organized mappings, and meaningful labels.\n",
        "Dictionaries let you retrieve a value instantly using a key, thanks to their underlying hash table structure.\n",
        "\n",
        "Lists require scanning until you find what you need—slower for big data.\n",
        "\n"
      ],
      "metadata": {
        "id": "3xRB5_3s1vZX"
      }
    },
    {
      "cell_type": "markdown",
      "source": [
        "12. Describe a scenario where using a tuple would be preferable over a list\n",
        "\n",
        "Ans---\n",
        "\n",
        "A great scenario where a tuple is preferable to a list is when you want to store a collection of items that should not be changed. Think of data that is inherently fixed or constant.\n",
        "\n",
        "Scenario: Storing Coordinates\n",
        "Imagine you are writing a program that deals with geographical locations. Each location can be represented by a pair of coordinates: a latitude and a longitude.\n",
        "\n",
        "Why a tuple is a good choice here:\n",
        "\n",
        "Immutability: Once you have the coordinates for a specific location, they shouldn't change. A tuple's immutability ensures that you can't accidentally modify the latitude or longitude of a location. This makes your code safer and more predictable.\n",
        "Data Integrity: Using a tuple makes it clear that the data is meant to be a single, cohesive unit. A list, being mutable, might imply that you can add or remove elements, which doesn't make sense for a coordinate pair.\n",
        "Use as Dictionary Keys: If you need to store information about each location in a dictionary, you can use the coordinate tuple as a key. Lists cannot be used as dictionary keys because they are mutable.\n",
        "Here's a code example:\n",
        "\n",
        "Using tuples to store coordinates\n",
        "location1 = (40.7128, -74.0060)  # New York City\n",
        "location2 = (34.0522, -118.2437) # Los Angeles\n",
        "\n",
        "We can easily access the latitude and longitude\n",
        "\n",
        "print(f\"New York City Latitude: {location1[0]}\")\n",
        "print(f\"New York City Longitude: {location1[1]}\")\n",
        "\n",
        "# If you try to change the coordinates, you'll get an error\n",
        "# location1[0] = 41.8781  # This will raise a TypeError\n",
        "\n",
        "# Using tuples as dictionary keys\n",
        "city_data = {\n",
        "    location1: \"A bustling metropolis\",\n",
        "    location2: \"The entertainment capital of the world\"\n",
        "}\n",
        "\n",
        "print(city_data[location1])\n",
        "In this example, using tuples for coordinates provides a clear and safe way to handle fixed data. If you were to use lists instead, you would lose the guarantee of immutability and the ability to use them as dictionary keys, making your code more prone to errors.\n",
        "\n"
      ],
      "metadata": {
        "id": "J2kqDxlT6U7t"
      }
    },
    {
      "cell_type": "markdown",
      "source": [
        "13.How do sets handle duplicate values in Python?\n",
        "\n",
        "Answer- In Python, sets are collections of unique elements. This means that they automatically handle duplicate values by simply ignoring them. If you try to add an item to a set that already contains that item, the set will remain unchanged."
      ],
      "metadata": {
        "id": "2SVlvLQT7PoK"
      }
    },
    {
      "cell_type": "markdown",
      "source": [
        "14.How does the “in” keyword work differently for lists and dictionaries?\n",
        "\n",
        "in keyword with Lists:\n",
        "When you use the in keyword with a list, it checks for the presence of a value within the list. It iterates through the list and returns True if it finds a matching value, and False otherwise.\n",
        "\n",
        "in keyword with Dictionaries:\n",
        "When you use the in keyword with a dictionary, it checks for the presence of a key, not a value. It returns True if the specified key exists in the dictionary, and False otherwise."
      ],
      "metadata": {
        "id": "TMOUW2FQ_Kc1"
      }
    },
    {
      "cell_type": "markdown",
      "source": [
        "15. Can you modify the elements of a tuple? Explain why or why not\n",
        "\n",
        "Ans--\n",
        "No, we cannot modify the elements of a tuple. This is because tuples, like strings, are immutable data types in Python.\n",
        "\n",
        "Explanation:\n",
        "Immutability means that once a tuple is created, its contents cannot be altered, added to, or removed from. If you need to change the elements, you would have to create a new tuple."
      ],
      "metadata": {
        "id": "XgJnK8bi_lnB"
      }
    },
    {
      "cell_type": "markdown",
      "source": [
        "16. What is a nested dictionary, and give an example of its use case\n",
        "\n",
        "\n",
        "Ans-\n",
        "A nested dictionary is a dictionary that contains other dictionaries as its values. This allows you to create more complex and hierarchical data structures.\n",
        "\n",
        "What it looks like:\n",
        "In a nested dictionary, you have an outer dictionary, and some of its values are themselves dictionaries.\n",
        "\n",
        "nested_dict = {\n",
        "    'key1': 'value1',\n",
        "    'key2': {\n",
        "        'nested_key1': 'nested_value1',\n",
        "        'nested_key2': 'nested_value2'\n",
        "    }\n",
        "}\n",
        "In this example, nested_dict is a nested dictionary because the value associated with 'key2' is another dictionary.\n",
        "\n",
        "Use Case: Storing User Information\n",
        "A common use case for nested dictionaries is to store structured information about multiple items, such as users in an application.\n",
        "\n",
        "Imagine you want to store information about several users, including their name, email, and a list of their skills. A nested dictionary is a perfect way to organize this data.\n",
        "\n",
        "Example:\n",
        "\n",
        "users = {\n",
        "    'user1': {\n",
        "        'name': 'Alice',\n",
        "        'email': 'alice@example.com',\n",
        "        'skills': ['Python', 'Data Analysis', 'Machine Learning']\n",
        "    },\n",
        "    'user2': {\n",
        "        'name': 'Bob',\n",
        "        'email': 'bob@example.com',\n",
        "        'skills': ['JavaScript', 'React', 'Node.js']\n",
        "    },\n",
        "    'user3': {\n",
        "        'name': 'Charlie',\n",
        "        'email': 'charlie@example.com',\n",
        "        'skills': ['HTML', 'CSS', 'Graphic Design']\n",
        "    }\n",
        "}\n",
        "\n",
        "# Accessing information about a specific user\n",
        "print(f\"User: {users['user2']['name']}\")\n",
        "print(f\"Email: {users['user2']['email']}\")\n",
        "\n",
        "# Accessing a specific skill of a user\n",
        "print(f\"First skill of Alice: {users['user1']['skills'][0]}\")\n",
        "In this example:\n",
        "\n",
        "The outer dictionary users has keys like 'user1', 'user2', and 'user3'.\n",
        "The value for each of these keys is another dictionary containing the user's name, email, and a list of their skills.\n",
        "This structure is much more organized and readable than trying to store all this information in a single, flat dictionary or in separate variables. It allows you to easily access and manage the data for each user."
      ],
      "metadata": {
        "id": "0KVueoru_5lE"
      }
    },
    {
      "cell_type": "markdown",
      "source": [
        "17. Describe the time complexity of accessing elements in a dictionary\n",
        "Ans--\n",
        "\n",
        "The time complexity of accessing elements in a Python dictionary is, on average, O(1), which is constant time. In the worst-case scenario, it can be O(n), where n is the number of elements in the dictionary.\n",
        "\n",
        "\n",
        "Average Case: O(1) - Constant Time\n",
        "This is the typical and most important case to consider. The reason for this efficiency is that dictionaries in Python are implemented using a data structure called a hash table.\n",
        "\n",
        " explanation of how it works:\n",
        "\n",
        "Hashing: When you add a key-value pair to a dictionary, Python calculates a hash of the key. The hash is an integer that is used to determine where to store the value in memory.\n",
        "Direct Access: When you want to access the value associated with a key, Python recalculates the hash of the key and uses it to directly look up the location of the value in memory.\n",
        "Because of this direct lookup, the time it takes to access an element does not depend on the size of the dictionary. Whether the dictionary has 10 elements or 10 million elements, accessing an element takes, on average, the same amount of time.\n",
        "\n",
        "Worst Case: O(n) - Linear Time\n",
        "The worst-case scenario occurs when there are hash collisions. A hash collision happens when two different keys produce the same hash value.\n",
        "\n",
        "When a collision occurs, Python has to store multiple key-value pairs at the same location.\n",
        "If you then try to access one of these keys, Python has to iterate through all the keys at that location to find the one you're looking for.\n",
        "In the extremely unlikely event that all keys in the dictionary collide, you would have to search through all n elements to find the one you want, resulting in a time complexity of O(n).\n",
        "\n",
        "However, Python's hashing algorithm is very effective at minimizing collisions, so the worst-case scenario is very rare in practice. For all practical purposes, you can consider dictionary access to be an O(1) operation."
      ],
      "metadata": {
        "id": "UZA1QbEdAdN9"
      }
    },
    {
      "cell_type": "markdown",
      "source": [
        "18.In what situations are lists preferred over dictionaries\n",
        "\n",
        "Ans--\n",
        "\n",
        "Lists are generally preferred over dictionaries in situations where the order of elements is important and we want to access elements by their numerical position (index).\n",
        "\n",
        "Here are the key situations where a list is the better choice:\n",
        "\n",
        "1. When we Have an Ordered Sequence:\n",
        "If the order of data matters, a list is the natural choice. Lists maintain the order of elements as we add them.\n",
        "\n",
        "Example: A to-do list. The order in which you need to complete tasks is important.\n",
        "todo_list = [\"Buy groceries\", \"Pay bills\", \"Walk the dog\"]\n",
        "\n",
        "#we  can access tasks by their order\n",
        "\n",
        "print(f\"First task: {todo_list[0]}\")\n",
        "\n",
        "2. When we Need to Access Elements by Index:\n",
        "If we need to get an element by its position (e.g., the first, second, or last element), lists are ideal because they are indexed by integers.\n",
        "\n",
        "Example: Top 5 scores in a game.\n",
        "high_scores = [1000, 950, 900, 850, 800]\n",
        "\n",
        "# Get the top score\n",
        "top_score = high_scores[0]\n",
        "3. When we Have a Collection of Homogeneous Items:\n",
        "While lists can hold items of different data types, they are often used to store a collection of similar items.\n",
        "\n",
        "Example: A list of temperatures.\n",
        "daily_temperatures = [25.5, 26.0, 24.8, 27.1, 26.5]\n",
        "When a Dictionary Would Be a Poor Choice:\n",
        "In the examples above, a dictionary would be awkward to use. For a to-do list, what would we use as the keys? You could use numbers (0, 1, 2, ...), but that's essentially recreating the functionality of a list.\n",
        "\n",
        "Summary:\n",
        "Use a List when...\tUse a Dictionary when...\n",
        "The order of items is important.\tThe order of items is not important.\n",
        "You want to access items by their numerical index.\tYou want to access items by a meaningful key (e.g., a name or an ID).\n",
        "You have a simple sequence of items.\tYou have key-value pairs of related data.\n"
      ],
      "metadata": {
        "id": "NQKObopZA8Tp"
      }
    },
    {
      "cell_type": "markdown",
      "source": [
        "19.Why are dictionaries considered unordered, and how does that affect data retrieval\n",
        "\n",
        "Ans--The reason dictionaries were unordered is due to their implementation using a hash table. As we discussed earlier, a hash table stores key-value pairs based on the hash of the key, not on the order in which the items were added.\n",
        "\n",
        "The position of an item in the dictionary was determined by its hash value, which could seem random.\n",
        "This meant that if you iterated over a dictionary, the order in which you got the items was not guaranteed to be the same as the order in which you inserted them."
      ],
      "metadata": {
        "id": "iMfqfN1aB1AX"
      }
    },
    {
      "cell_type": "markdown",
      "source": [
        "20.Explain the difference between a list and a dictionary in terms of data retrieval.\n",
        "\n",
        "The main difference between a list and a dictionary in terms of data retrieval lies in how you access the data and the performance of that access.\n",
        "\n",
        "Lists: Retrieval by Numerical Index\n",
        "How it works: In a list, you retrieve data by its numerical position (index). The first element is at index 0, the second at index 1, and so on.\n",
        "Performance:\n",
        "Accessing an element by its index (e.g., my_list[5]) is very fast, with a time complexity of O(1).\n",
        "However, if you need to find an element by its value (e.g., finding the index of the number 50 in a list), Python has to search through the list one item at a time. This has a time complexity of O(n), where n is the number of elements in the list.\n",
        "Example:\n",
        "\n",
        "my_list = [10, 20, 30, 40, 50]\n",
        "\n",
        "# Retrieval by index (fast)\n",
        "print(my_list[2])  # Output: 30\n",
        "\n",
        "# Retrieval by value (can be slow)\n",
        "print(my_list.index(40)) # Output: 3\n",
        "Dictionaries: Retrieval by Key\n",
        "How it works: In a dictionary, you retrieve data by a unique key. This key can be a string, a number, or any other immutable type.\n",
        "Performance:\n",
        "Accessing a value by its key (e.g., my_dict['age']) is extremely fast, with an average time complexity of O(1). This is because dictionaries use a hash table for direct lookups.\n",
        "This means that the time it takes to retrieve an element from a dictionary does not depend on the size of the dictionary.\n",
        "Example:\n",
        "\n",
        "my_dict = {'name': 'Alice', 'age': 30, 'city': 'New York'}\n",
        "\n",
        "# Retrieval by key (very fast)\n",
        "print(my_dict['age'])  # Output: 30\n",
        "Summary of the Difference:\n",
        "Feature\tList\tDictionary\n",
        "How to retrieve\tBy numerical index (e.g., my_list[0])\tBy key (e.g., my_dict['key'])\n",
        "Performance\tO(1) for index access, O(n) for value search\tO(1) on average for key access\n",
        "Use case\tFor ordered collections of items\tFor collections of key-value pairs"
      ],
      "metadata": {
        "id": "hdTQ7j1QCguS"
      }
    },
    {
      "cell_type": "markdown",
      "source": [],
      "metadata": {
        "id": "KXmeodDyAz6b"
      }
    },
    {
      "cell_type": "markdown",
      "source": [],
      "metadata": {
        "id": "DFj0HLzFAQrM"
      }
    }
  ]
}